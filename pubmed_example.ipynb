{
 "cells": [
  {
   "cell_type": "code",
   "execution_count": 2,
   "metadata": {},
   "outputs": [],
   "source": [
    "import eutils\n"
   ]
  },
  {
   "cell_type": "code",
   "execution_count": 9,
   "metadata": {
    "collapsed": true
   },
   "outputs": [
    {
     "ename": "EutilsNCBIError",
     "evalue": "Error parsing response object from NCBI: Bad Request (400): ID list is empty! Possibly it has no correct IDs.",
     "traceback": [
      "\u001b[0;31m---------------------------------------------------------------------------\u001b[0m",
      "\u001b[0;31mEutilsRequestError\u001b[0m                        Traceback (most recent call last)",
      "\u001b[0;32m/usr/local/lib/python3.5/dist-packages/eutils/queryservice.py\u001b[0m in \u001b[0;36m_query\u001b[0;34m(self, path, args, skip_cache, skip_sleep)\u001b[0m\n\u001b[1;32m    318\u001b[0m                 \u001b[0mxml\u001b[0m \u001b[0;34m=\u001b[0m \u001b[0mlxml\u001b[0m\u001b[0;34m.\u001b[0m\u001b[0metree\u001b[0m\u001b[0;34m.\u001b[0m\u001b[0mfromstring\u001b[0m\u001b[0;34m(\u001b[0m\u001b[0mr\u001b[0m\u001b[0;34m.\u001b[0m\u001b[0mtext\u001b[0m\u001b[0;34m.\u001b[0m\u001b[0mencode\u001b[0m\u001b[0;34m(\u001b[0m\u001b[0;34m'utf-8'\u001b[0m\u001b[0;34m)\u001b[0m\u001b[0;34m)\u001b[0m\u001b[0;34m\u001b[0m\u001b[0m\n\u001b[0;32m--> 319\u001b[0;31m                 \u001b[0;32mraise\u001b[0m \u001b[0mEutilsRequestError\u001b[0m\u001b[0;34m(\u001b[0m\u001b[0;34m'{r.reason} ({r.status_code}): {error}'\u001b[0m\u001b[0;34m.\u001b[0m\u001b[0mformat\u001b[0m\u001b[0;34m(\u001b[0m\u001b[0mr\u001b[0m\u001b[0;34m=\u001b[0m\u001b[0mr\u001b[0m\u001b[0;34m,\u001b[0m \u001b[0merror\u001b[0m\u001b[0;34m=\u001b[0m\u001b[0mxml\u001b[0m\u001b[0;34m.\u001b[0m\u001b[0mfind\u001b[0m\u001b[0;34m(\u001b[0m\u001b[0;34m'ERROR'\u001b[0m\u001b[0;34m)\u001b[0m\u001b[0;34m.\u001b[0m\u001b[0mtext\u001b[0m\u001b[0;34m)\u001b[0m\u001b[0;34m)\u001b[0m\u001b[0;34m\u001b[0m\u001b[0m\n\u001b[0m\u001b[1;32m    320\u001b[0m             \u001b[0;32mexcept\u001b[0m \u001b[0mException\u001b[0m \u001b[0;32mas\u001b[0m \u001b[0mex\u001b[0m\u001b[0;34m:\u001b[0m\u001b[0;34m\u001b[0m\u001b[0m\n",
      "\u001b[0;31mEutilsRequestError\u001b[0m: Bad Request (400): ID list is empty! Possibly it has no correct IDs.",
      "\nDuring handling of the above exception, another exception occurred:\n",
      "\u001b[0;31mEutilsNCBIError\u001b[0m                           Traceback (most recent call last)",
      "\u001b[0;32m<ipython-input-9-1eb5b37628c9>\u001b[0m in \u001b[0;36m<module>\u001b[0;34m()\u001b[0m\n\u001b[1;32m      1\u001b[0m \u001b[0mec\u001b[0m \u001b[0;34m=\u001b[0m \u001b[0meutils\u001b[0m\u001b[0;34m.\u001b[0m\u001b[0mclient\u001b[0m\u001b[0;34m.\u001b[0m\u001b[0mClient\u001b[0m\u001b[0;34m(\u001b[0m\u001b[0;34m)\u001b[0m\u001b[0;34m\u001b[0m\u001b[0m\n\u001b[1;32m      2\u001b[0m \u001b[0msearch_result\u001b[0m \u001b[0;34m=\u001b[0m \u001b[0mec\u001b[0m\u001b[0;34m.\u001b[0m\u001b[0mesearch\u001b[0m\u001b[0;34m(\u001b[0m\u001b[0;34m'pubmed'\u001b[0m\u001b[0;34m,\u001b[0m \u001b[0mterm\u001b[0m\u001b[0;34m=\u001b[0m\u001b[0;34m'NNNNNN'\u001b[0m\u001b[0;34m)\u001b[0m\u001b[0;34m\u001b[0m\u001b[0m\n\u001b[0;32m----> 3\u001b[0;31m \u001b[0mpaset\u001b[0m \u001b[0;34m=\u001b[0m \u001b[0mlist\u001b[0m\u001b[0;34m(\u001b[0m\u001b[0mec\u001b[0m\u001b[0;34m.\u001b[0m\u001b[0mefetch\u001b[0m\u001b[0;34m(\u001b[0m\u001b[0;34m'pubmed'\u001b[0m\u001b[0;34m,\u001b[0m \u001b[0msearch_result\u001b[0m\u001b[0;34m.\u001b[0m\u001b[0mids\u001b[0m\u001b[0;34m)\u001b[0m\u001b[0;34m)\u001b[0m\u001b[0;34m\u001b[0m\u001b[0m\n\u001b[0m",
      "\u001b[0;32m/usr/local/lib/python3.5/dist-packages/eutils/client.py\u001b[0m in \u001b[0;36mefetch\u001b[0;34m(self, db, id)\u001b[0m\n\u001b[1;32m     79\u001b[0m         \"\"\"\n\u001b[1;32m     80\u001b[0m         \u001b[0mdb\u001b[0m \u001b[0;34m=\u001b[0m \u001b[0mdb\u001b[0m\u001b[0;34m.\u001b[0m\u001b[0mlower\u001b[0m\u001b[0;34m(\u001b[0m\u001b[0;34m)\u001b[0m\u001b[0;34m\u001b[0m\u001b[0m\n\u001b[0;32m---> 81\u001b[0;31m         \u001b[0mxml\u001b[0m \u001b[0;34m=\u001b[0m \u001b[0mself\u001b[0m\u001b[0;34m.\u001b[0m\u001b[0m_qs\u001b[0m\u001b[0;34m.\u001b[0m\u001b[0mefetch\u001b[0m\u001b[0;34m(\u001b[0m\u001b[0;34m{\u001b[0m\u001b[0;34m'db'\u001b[0m\u001b[0;34m:\u001b[0m \u001b[0mdb\u001b[0m\u001b[0;34m,\u001b[0m \u001b[0;34m'id'\u001b[0m\u001b[0;34m:\u001b[0m \u001b[0mstr\u001b[0m\u001b[0;34m(\u001b[0m\u001b[0mid\u001b[0m\u001b[0;34m)\u001b[0m\u001b[0;34m}\u001b[0m\u001b[0;34m)\u001b[0m\u001b[0;34m\u001b[0m\u001b[0m\n\u001b[0m\u001b[1;32m     82\u001b[0m         \u001b[0mdoc\u001b[0m \u001b[0;34m=\u001b[0m \u001b[0mle\u001b[0m\u001b[0;34m.\u001b[0m\u001b[0mXML\u001b[0m\u001b[0;34m(\u001b[0m\u001b[0mxml\u001b[0m\u001b[0;34m)\u001b[0m\u001b[0;34m\u001b[0m\u001b[0m\n\u001b[1;32m     83\u001b[0m         \u001b[0;32mif\u001b[0m \u001b[0mdb\u001b[0m \u001b[0;32min\u001b[0m \u001b[0;34m[\u001b[0m\u001b[0;34m'gene'\u001b[0m\u001b[0;34m]\u001b[0m\u001b[0;34m:\u001b[0m\u001b[0;34m\u001b[0m\u001b[0m\n",
      "\u001b[0;32m/usr/local/lib/python3.5/dist-packages/eutils/queryservice.py\u001b[0m in \u001b[0;36mefetch\u001b[0;34m(self, args)\u001b[0m\n\u001b[1;32m    156\u001b[0m \u001b[0;34m\u001b[0m\u001b[0m\n\u001b[1;32m    157\u001b[0m         \"\"\"\n\u001b[0;32m--> 158\u001b[0;31m         \u001b[0;32mreturn\u001b[0m \u001b[0mself\u001b[0m\u001b[0;34m.\u001b[0m\u001b[0m_query\u001b[0m\u001b[0;34m(\u001b[0m\u001b[0;34m'/efetch.fcgi'\u001b[0m\u001b[0;34m,\u001b[0m \u001b[0margs\u001b[0m\u001b[0;34m)\u001b[0m\u001b[0;34m\u001b[0m\u001b[0m\n\u001b[0m\u001b[1;32m    159\u001b[0m \u001b[0;34m\u001b[0m\u001b[0m\n\u001b[1;32m    160\u001b[0m     \u001b[0;32mdef\u001b[0m \u001b[0meinfo\u001b[0m\u001b[0;34m(\u001b[0m\u001b[0mself\u001b[0m\u001b[0;34m,\u001b[0m \u001b[0margs\u001b[0m\u001b[0;34m=\u001b[0m\u001b[0;32mNone\u001b[0m\u001b[0;34m)\u001b[0m\u001b[0;34m:\u001b[0m\u001b[0;34m\u001b[0m\u001b[0m\n",
      "\u001b[0;32m/usr/local/lib/python3.5/dist-packages/eutils/queryservice.py\u001b[0m in \u001b[0;36m_query\u001b[0;34m(self, path, args, skip_cache, skip_sleep)\u001b[0m\n\u001b[1;32m    319\u001b[0m                 \u001b[0;32mraise\u001b[0m \u001b[0mEutilsRequestError\u001b[0m\u001b[0;34m(\u001b[0m\u001b[0;34m'{r.reason} ({r.status_code}): {error}'\u001b[0m\u001b[0;34m.\u001b[0m\u001b[0mformat\u001b[0m\u001b[0;34m(\u001b[0m\u001b[0mr\u001b[0m\u001b[0;34m=\u001b[0m\u001b[0mr\u001b[0m\u001b[0;34m,\u001b[0m \u001b[0merror\u001b[0m\u001b[0;34m=\u001b[0m\u001b[0mxml\u001b[0m\u001b[0;34m.\u001b[0m\u001b[0mfind\u001b[0m\u001b[0;34m(\u001b[0m\u001b[0;34m'ERROR'\u001b[0m\u001b[0;34m)\u001b[0m\u001b[0;34m.\u001b[0m\u001b[0mtext\u001b[0m\u001b[0;34m)\u001b[0m\u001b[0;34m)\u001b[0m\u001b[0;34m\u001b[0m\u001b[0m\n\u001b[1;32m    320\u001b[0m             \u001b[0;32mexcept\u001b[0m \u001b[0mException\u001b[0m \u001b[0;32mas\u001b[0m \u001b[0mex\u001b[0m\u001b[0;34m:\u001b[0m\u001b[0;34m\u001b[0m\u001b[0m\n\u001b[0;32m--> 321\u001b[0;31m                 \u001b[0;32mraise\u001b[0m \u001b[0mEutilsNCBIError\u001b[0m\u001b[0;34m(\u001b[0m\u001b[0;34m'Error parsing response object from NCBI: {}'\u001b[0m\u001b[0;34m.\u001b[0m\u001b[0mformat\u001b[0m\u001b[0;34m(\u001b[0m\u001b[0mex\u001b[0m\u001b[0;34m)\u001b[0m\u001b[0;34m)\u001b[0m\u001b[0;34m\u001b[0m\u001b[0m\n\u001b[0m\u001b[1;32m    322\u001b[0m \u001b[0;34m\u001b[0m\u001b[0m\n\u001b[1;32m    323\u001b[0m         \u001b[0;32mif\u001b[0m \u001b[0many\u001b[0m\u001b[0;34m(\u001b[0m\u001b[0mbad_word\u001b[0m \u001b[0;32min\u001b[0m \u001b[0mr\u001b[0m\u001b[0;34m.\u001b[0m\u001b[0mtext\u001b[0m \u001b[0;32mfor\u001b[0m \u001b[0mbad_word\u001b[0m \u001b[0;32min\u001b[0m \u001b[0;34m[\u001b[0m\u001b[0;34m'<error>'\u001b[0m\u001b[0;34m,\u001b[0m \u001b[0;34m'<ERROR>'\u001b[0m\u001b[0;34m]\u001b[0m\u001b[0;34m)\u001b[0m\u001b[0;34m:\u001b[0m\u001b[0;34m\u001b[0m\u001b[0m\n",
      "\u001b[0;31mEutilsNCBIError\u001b[0m: Error parsing response object from NCBI: Bad Request (400): ID list is empty! Possibly it has no correct IDs."
     ],
     "output_type": "error"
    }
   ],
   "source": [
    "ec = eutils.client.Client()\n",
    "search_result = ec.esearch('pubmed', term='')\n",
    "paset = list(ec.efetch('pubmed', search_result.ids))\n"
   ]
  },
  {
   "cell_type": "code",
   "execution_count": 5,
   "metadata": {
    "collapsed": true
   },
   "outputs": [
    {
     "name": "stdout",
     "output_type": "stream",
     "text": [
      "  4 - ['Case-Control Studies', 'Epstein-Barr Virus Infections', 'Female', 'Herpesvirus 4, Human', 'Humans', 'In Situ Hybridization', 'Male', 'Prognosis', 'RNA, Long Noncoding', 'RNA, Viral', 'Real-Time Polymerase Chain Reaction', 'Stomach Neoplasms']\n  5 - ['Adult', 'Aged', 'Cell Transformation, Viral', 'Computational Biology', 'Databases, Genetic', 'Epstein-Barr Virus Infections', 'Female', 'Gene Expression Profiling', 'Gene Expression Regulation, Neoplastic', 'Gene Regulatory Networks', 'Herpesvirus 4, Human', 'Host-Pathogen Interactions', 'Humans', 'Male', 'Middle Aged', 'RNA, Long Noncoding', 'RNA, Messenger', 'RNA, Neoplasm', 'Real-Time Polymerase Chain Reaction', 'Sequence Analysis, RNA', 'Stomach Neoplasms', 'Young Adult']\n"
     ]
    }
   ],
   "source": [
    "for i, pa in enumerate(paset):\n",
    "    if pa.mesh_headings:\n",
    "        print('%3d - %s' % (i + 1, pa.mesh_headings))"
   ]
  },
  {
   "cell_type": "code",
   "execution_count": null,
   "metadata": {},
   "outputs": [],
   "source": []
  },
  {
   "cell_type": "code",
   "execution_count": 7,
   "metadata": {
    "collapsed": true
   },
   "outputs": [
    {
     "name": "stdout",
     "output_type": "stream",
     "text": [
      "  1 - The long non-coding RNA \n  2 - Circulating HOTAIR expression predicts the clinical response to neoadjuvant chemotherapy in patients with breast cancer.\n  3 - HOTAIR gene polymorphisms contribute to increased neuroblastoma susceptibility in Chinese children.\n  4 - Long non-coding RNAs in melanoma.\n  5 - Long non-coding RNA HOTAIR and STAT3 synergistically regulate the cervical cancer cell migration and invasion.\n  6 - Serum long noncoding RNA HOTAIR as a novel diagnostic and prognostic biomarker in glioblastoma multiforme.\n  7 - STAT3/HOTAIR Signaling Axis Regulates HNSCC Growth in an EZH2-dependent Manner.\n  8 - An Overview of Long Noncoding RNAs Involved in Bone Regeneration from Mesenchymal Stem Cells.\n  9 - The association between LncRNA HOTAIR and cancer lymph node metastasis and distant metastasis: a meta-analysis.\n 10 - The prognostic impact of long noncoding RNA HOTAIR in leukemia and lymphoma: a meta-analysis.\n 11 - Hepatitis B Virus-Associated Hepatocellular Carcinoma and Hepatic Cancer Stem Cells.\n 12 - The association between HOTAIR polymorphisms and cancer susceptibility: an updated systemic review and meta-analysis.\n 13 - LncRNA HOTAIR influences cell growth, migration, invasion, and apoptosis via the miR-20a-5p/HMGA2 axis in breast cancer.\n 14 - Silencing of LncRNA-HOTAIR decreases drug resistance of Non-Small Cell Lung Cancer cells by inactivating autophagy via suppressing the phosphorylation of ULK1.\n 15 - The Long Noncoding RNA HOTAIR in Breast Cancer: Does Autophagy Play a Role?\n 16 - Lentivirus-mediated silencing of HOTAIR lncRNA restores gefitinib sensitivity by activating Bax/Caspase-3 and suppressing TGF-α/EGFR signaling in lung adenocarcinoma.\n 17 - Long non-coding RNA HOTAIR mediates the estrogen-induced metastasis of endometrial cancer cells via miR-646/NPM1 axis.\n 18 - Long non-coding RNA HOTAIR polymorphism and susceptibility to cancer: an updated meta-analysis.\n 19 - Association on polymorphisms in LncRNA HOTAIR and susceptibility to HNSCC in Chinese population.\n 20 - The effect of lncRNA HOTAIR on chemoresistance of ovarian cancer through regulation of HOXA7.\n 21 - Clinical Value of Long Noncoding RNA HOTAIR as a Novel Biomarker in Digestive Cancers: A Meta-Analysis.\n 22 - Long non-coding RNA HOTAIR promotes expression of ADAMTS-5 in human osteoarthritic articular chondrocytes.\n 23 - MicroRNA-203 inhibits long noncoding RNA HOTAIR and regulates tumorigenesis through epithelial-to-mesenchymal transition pathway in renal cell carcinoma.\n 24 - Influence of HOTAIR rs920778 and rs12826786 genetic variants on prostate cancer risk and progression-free survival.\n 25 - Polymorphisms of long non-coding RNA HOTAIR with breast cancer susceptibility and clinical outcomes for a southeast Chinese Han population.\n 26 - Regulatory role of long non-coding RNAs during reproductive disease.\n 27 - HOTAIR induces the ubiquitination of Runx3 by interacting with Mex3b and enhances the invasion of gastric cancer cells.\n 28 - SPION-mediated miR-141 promotes the differentiation of HuAESCs into dopaminergic neuron-like cells via suppressing lncRNA-HOTAIR.\n 29 - LncRNA HOTAIR promotes cell migration and invasion by regulating MKL1 via inhibition miR206 expression in HeLa cells.\n 30 - Role of metastasis-associated lung adenocarcinoma transcript-1 (MALAT-1) in pancreatic cancer.\n 31 - Long non-coding RNA HOTAIR up-regulates chemokine (C-C motif) ligand 2 and promotes proliferation of macrophages and myeloid-derived suppressor cells in hepatocellular carcinoma cell lines.\n 32 - Propofol promotes apoptosis and suppresses the HOTAIR-mediated mTOR/p70S6K signaling pathway in melanoma cells.\n 33 - Effect of Sevoflurane Anesthesia on Brain Is Mediated by lncRNA HOTAIR.\n 34 - Long non-coding RNA HOTAIR promotes cervical cancer progression through regulating BCL2 via targeting miR-143-3p.\n 35 - HOTAIR contributes to cell proliferation and metastasis of cervical cancer via targetting \n 36 - Paracrine and epigenetic control of CAF-induced metastasis: the role of HOTAIR stimulated by TGF-ß1 secretion.\n 37 - MiR-15b/HOTAIR/p53 form a regulatory loop that affects the growth of glioma cells.\n 38 - Long non-coding RNA HOTAIR acts as a competing endogenous RNA to promote glioma progression by sponging miR-126-5p.\n 39 - Expression and clinical role of long non-coding RNA in high-grade serous carcinoma.\n 40 - \n 41 - LncRNAs and their role in cancer stem cells.\n 42 - Impact of HOTAIR Gene Polymorphism and Environmental Risk on Oral Cancer.\n 43 - Long noncoding RNA HOTAIR promotes the proliferation and metastasis of osteosarcoma cells through the AKT/mTOR signaling pathway.\n 44 - Long Non-coding RNA Linc-ROR Is Upregulated in Papillary Thyroid Carcinoma.\n 45 - Epigenetic silence of HOTAIR contributes to the metastasis of pancreatic cancer via targeting miR-138.\n 46 - Circulating Long Noncoding RNA HOTAIR is an Essential Mediator of Acute Myocardial Infarction.\n 47 - Knockdown of long non-coding RNA HOTAIR sensitizes hepatocellular carcinoma cell to cisplatin by suppressing the STAT3/ABCB1 signaling pathway.\n 48 - From biomarkers to therapeutic targets-the promises and perils of long non-coding RNAs in cancer.\n 49 - Effect and mechanism of lncRNA HOTAIR on occurrence and development of gastric cancer.\n 50 - JMJD6 induces HOTAIR, an oncogenic lincRNA, by physically interacting with its proximal promoter.\n 51 - Targeting LncRNA HOTAIR suppresses cancer stemness and metastasis in oral carcinomas stem cells through modulation of EMT.\n 52 - LncRNA HOTAIR contributes to the tumorigenesis of nasopharyngeal carcinoma via up-regulating FASN.\n 53 - Long Noncoding RNA HOTAIR Modulates MiR-206-mediated Bcl-w Signaling to Facilitate Cell Proliferation in Breast Cancer.\n 54 - HOTAIR-mediated reciprocal regulation of EZH2 and DNMT1 contribute to polyphyllin I-inhibited growth of castration-resistant prostate cancer cells in vitro and in vivo.\n 55 - Long non-coding RNA HOTAIR enhances angiogenesis by induction of VEGFA expression in glioma cells and transmission to endothelial cells via glioma cell derived-extracellular vesicles.\n 56 - Missing Links in Epithelial-Mesenchymal Transition: Long Non-Coding RNAs Enter the Arena.\n 57 - \n 58 - Gemcitabine treatment causes resistance and malignancy of pancreatic cancer stem-like cells via induction of lncRNA HOTAIR.\n 59 - Silibinin suppresses bladder cancer through down-regulation of actin cytoskeleton and PI3K/Akt signaling pathways.\n 60 - LncRNA-HOTAIR affects tumorigenesis and metastasis of non-small cell lung cancer by up-regulating miR-613.\n 61 - Long Non-Coding RNAs: the New Horizon of Gene Regulation in Ovarian Cancer.\n 62 - HOTAIR regulates HK2 expression by binding endogenous miR-125 and miR-143 in oesophageal squamous cell carcinoma progression.\n 63 - Long non-coding RNA HOTAIR acts as a competing endogenous RNA to promote malignant melanoma progression by sponging miR-152-3p.\n 64 - High expression level of long non-coding RNA HOTAIR is associated with poor overall survival in gastric cancer patients: evidence from meta-analysis.\n 65 - Involvement of aberrantly activated HOTAIR/EZH2/miR-193a feedback loop in progression of prostate cancer.\n 66 - Association of Functional Genetic Variants of HOTAIR with Hepatocellular Carcinoma (HCC) Susceptibility in a Chinese Population.\n 67 - The long noncoding RNA HOTAIR promotes colorectal cancer progression by sponging miR-197.\n 68 - Transcriptome profiling in preadipocytes identifies long noncoding RNAs as Sam68 targets.\n 69 - ARFHPV E7 oncogene, lncRNA HOTAIR, miR-331-3p and its target, NRP2, form a negative feedback loop to regulate the apoptosis in the tumorigenesis in HPV positive cervical cancer.\n 70 - High expression of long non‑coding HOTAIR correlated with hepatocarcinogenesis and metastasis.\n 71 - Long non-coding RNAs in rheumatoid arthritis.\n 72 - Prognostic and diagnostic significance of lncRNAs expression in cervical cancer: a systematic review and meta-analysis.\n 73 - Comparative transcriptome analysis reveals potentially novel roles of Homeobox genes in adipose deposition in fat-tailed sheep.\n 74 - Cav-1 promote lung cancer cell proliferation and invasion through lncRNA HOTAIR.\n 75 - Knockdown of long non-coding RNA HOTAIR inhibits cisplatin resistance of gastric cancer cells through inhibiting the PI3K/Akt and Wnt/β-catenin signaling pathways by up-regulating miR-34a.\n 76 - Integrated Proteomic and Transcriptomic Analysis Reveals Long Noncoding RNA HOX Transcript Antisense Intergenic RNA (HOTAIR) Promotes Hepatocellular Carcinoma Cell Proliferation by Regulating Opioid Growth Factor Receptor (OGFr).\n 77 - Expression of the long non-coding RNA HOTAIR as a prognostic factor in squamous cell carcinoma of the head and neck: a systematic review and meta-analysis.\n 78 - Long non-coding RNA HOX transcript antisense RNA promotes expression of 14-3-3σ in non-small cell lung cancer.\n 79 - Ethanol Induces Enhanced Vascularization Bioactivity of Endothelial Cell-Derived Extracellular Vesicles via Regulation of MicroRNAs and Long Non-Coding RNAs.\n 80 - HOTAIR but not ANRIL long non-coding RNA contributes to the pathogenesis of multiple sclerosis.\n 81 - Regulatory mechanisms of long noncoding RNAs on gene expression in cancers.\n 82 - Genetic polymorphisms of HOTAIR gene are associated with the risk of breast cancer in a sample of southeast Iranian population.\n 83 - Genetic polymorphisms of non-coding RNAs associated with increased head and neck cancer susceptibility: a systematic review and meta-analysis.\n 84 - The prognostic value of long non coding RNAs in cervical cancer: A meta-analysis.\n 85 - HOX transcript antisense intergenic RNA represses E-cadherin expression by binding to EZH2 in gastric cancer.\n 86 - Role of non-coding RNAs in head and neck squamous cell carcinoma: A narrative review.\n 87 - Quantitative assessment of lncRNA \n 88 - The long noncoding RNA HOTAIR activates the Hippo pathway by directly binding to SAV1 in renal cell carcinoma.\n 89 - Targeting of polycombs to DNA in EMT.\n 90 - Long non-coding RNA HOTAIR promotes cell migration by upregulating insulin growth factor-binding protein 2 in renal cell carcinoma.\n 91 - Serum HOTAIR and GAS5 levels as predictors of survival in patients with glioblastoma.\n 92 - lncRNA HOTAIR Contributes to 5FU Resistance through Suppressing miR-218 and Activating NF-κB/TS Signaling in Colorectal Cancer.\n 93 - No association of single nucleotide polymorphisms within H19 and HOX transcript antisense RNA (HOTAIR) with genetic susceptibility to systemic lupus erythematosus, rheumatoid arthritis, and primary Sjögren's syndrome in a Chinese Han population.\n 94 - Histone code and long non-coding RNAs (lncRNAs) aberrations in lung cancer: implications in the therapy response.\n 95 - LncRNA-HOTAIR Activates Tumor Cell Proliferation and Migration by Suppressing MiR-326 in Cervical Cancer.\n 96 - How long noncoding RNAs enforce their will on mitochondrial activity: regulation of mitochondrial respiration, reactive oxygen species production, apoptosis, and metabolic reprogramming in cancer.\n 97 - [Knock-down of ZEB1 inhibits the proliferation, invasion and migration of gastric cancer cells].\n 98 - Down-regulation of the long noncoding RNA-HOX transcript antisense intergenic RNA inhibits the occurrence and progression of glioma.\n 99 - Long non-coding RNAs on the stage of cervical cancer (Review).\n100 - Induction of a novel isoform of the lncRNA HOTAIR in Claudin-low breast cancer cells attached to extracellular matrix.\n101 - rs1859168 A > C polymorphism regulates HOTTIP expression and reduces risk of pancreatic cancer in a Chinese population.\n102 - Knockdown of Hotair suppresses proliferation and cell cycle progression in hepatocellular carcinoma cell by downregulating CCND1 expression.\n103 - Role of the long non-coding RNA HOTAIR in hepatocellular carcinoma.\n104 - Identification of Circulating Long Noncoding RNA HOTAIR as a Novel Biomarker for Diagnosis and Monitoring of Non-Small Cell Lung Cancer.\n105 - Reprogramming Antagonizes the Oncogenicity of HOXA13-Long Noncoding RNA HOTTIP Axis in Gastric Cancer Cells.\n106 - Long Non-coding RNA-mRNA Correlation Analysis Reveals the Potential Role of HOTAIR in Pathogenesis of Sporadic Thoracic Aortic Aneurysm.\n107 - Histone methylase MLL1 coordinates with HIF and regulate lncRNA HOTAIR expression under hypoxia.\n108 - High expression of long non-coding HOX antisense transcript RNA and its clinical significance in cancer tissues: A meta-analysis.\n109 - The YY1-HOTAIR-MMP2 Signaling Axis Controls Trophoblast Invasion at the Maternal-Fetal Interface.\n110 - Are there any HOTTIPs for defining coding potential of lncRNAs, or just a lot of HOTAIR?\n111 - Long Noncoding RNA HOTAIR: An Oncogene in Human Cervical Cancer Interacting with MicroRNA-17-5p.\n112 - Oncogenic long noncoding RNA landscape in breast cancer.\n113 - LncRNA HOTAIR alleviates rheumatoid arthritis by targeting miR-138 and inactivating NF-κB pathway.\n114 - Promotion of glycolysis by HOTAIR through GLUT1 upregulation via mTOR signaling.\n115 - A novel interplay between HOTAIR and DNA methylation in osteosarcoma cells indicates a new therapeutic strategy.\n116 - Autophagy regulated by lncRNA HOTAIR contributes to the cisplatin-induced resistance in endometrial cancer cells.\n117 - The Role of HOTAIR/miR-148b-3p/USF1 on Regulating the Permeability of BTB.\n118 - Tetracycline-controllable artificial microRNA-HOTAIR + EZH2 suppressed the progression of bladder cancer cells.\n119 - The long non-coding RNA HOTAIR promotes thyroid cancer cell growth, invasion and migration through the miR-1-CCND2 axis.\n120 - HOTAIR Long Noncoding RNA is not a Biomarker for Acute Myeloid Leukemia (AML) in Iranian Patients\n121 - \n122 - [Expression of Serum LncRNA HOTAIR in Non-small Cell Lung Cancer \u2029and Its Clinical Significance].\n123 - LncRNA HOTAIR polymorphisms association with cancer susceptibility in different tumor types.\n124 - A competing endogenous RNA network identifies novel mRNA, miRNA and lncRNA markers for the prognosis of diabetic pancreatic cancer.\n125 - Thymic stromal lymphopoietin-induced HOTAIR activation promotes endothelial cell proliferation and migration in atherosclerosis.\n126 - HOTAIR rs7958904 polymorphism is associated with increased cervical cancer risk in a Chinese population.\n127 - Clinicopathological and prognostic significance of homeobox transcript antisense RNA expression in various cancers: A meta-analysis.\n128 - A Tox21 Approach to Altered Epigenetic Landscapes: Assessing Epigenetic Toxicity Pathways Leading to Altered Gene Expression and Oncogenic Transformation In Vitro.\n129 - HOTAIR is a promising novel biomarker in patients with thyroid cancer.\n130 - RNA-binding protein HuR promotes bladder cancer progression by competitively binding to the long noncoding HOTAIR with miR-1.\n131 - GnRHa Treatment of Cryptorchid Boys Affects Genes Involved in Hormonal Control of the HPG Axis and Fertility.\n132 - LncRNA HOTAIR regulates HIF-1α/AXL signaling through inhibition of miR-217 in renal cell carcinoma.\n133 - HOTAIR and gastric cancer: a lesson from two meta-analyses.\n134 - Identification of aberrantly expressed long non-coding RNAs in stomach adenocarcinoma.\n135 - The long non-coding RNA HOTAIR enhances pancreatic cancer resistance to TNF-related apoptosis-inducing ligand.\n136 - Effects of irradiation on radioresistance, HOTAIR and epithelial-mesenchymal transition/cancer stem cell marker expression in esophageal squamous cell carcinoma.\n137 - Long non-coding RNA HOTAIR enhances radioresistance in MDA-MB231 breast cancer cells.\n138 - Long Non-coding RNAs and their Role in Metastasis.\n139 - The long noncoding RNA HOTAIR promotes Parkinson's disease by upregulating LRRK2 expression.\n140 - Long non-coding RNA HOTAIR functions as miRNA sponge to promote the epithelial to mesenchymal transition in esophageal cancer.\n141 - Therapeutic targeting using tumor specific peptides inhibits long non-coding RNA HOTAIR activity in ovarian and breast cancer.\n142 - LncRNA HOTAIR acts a competing endogenous RNA to control the expression of notch3 via sponging miR-613 in pancreatic cancer.\n143 - HOTAIR may regulate proliferation, apoptosis, migration and invasion of MCF-7 cells through regulating the P53/Akt/JNK signaling pathway.\n144 - Potentially functional variants in lncRNAs are associated with breast cancer risk in a Chinese population.\n145 - Dysregulation of LncRNAs in Placenta and Pathogenesis of Preeclampsia.\n146 - Serum HOTAIR as a novel diagnostic biomarker for esophageal squamous cell carcinoma.\n147 - MicroR-545 mediates colorectal cancer cells proliferation through up-regulating epidermal growth factor receptor expression in HOTAIR long non-coding RNA dependent.\n148 - Sedentary lifestyle related exosomal release of Hotair from gluteal-femoral fat promotes intestinal cell proliferation.\n149 - Association of HOTAIR expression with PI3K/Akt pathway activation in adenocarcinoma of esophagogastric junction.\n150 - Overexpression of LncRNA HOTAIR is Associated with Poor Prognosis in Thyroid Carcinoma: A Study Based on TCGA and GEO Data.\n151 - HOTAIR upregulates an 18-gene cell cycle-related mRNA network in glioma.\n152 - A systematic review and meta-analysis of the association between long non-coding RNA polymorphisms and cancer risk.\n153 - The analysis of lncRNA HOTAIR rs12826786 C>T polymorphism and gastric cancer susceptibility in a Turkish population: lack of any association in a hospital-based case-control study.\n154 - HOTAIR functions as a competing endogenous RNA to regulate PTEN expression by inhibiting miR-19 in cardiac hypertrophy.\n155 - A study on associations of single-nucleotide polymorphisms within H19 and HOX transcript antisense RNA (HOTAIR) with genetic susceptibility to rheumatoid arthritis in a Chinese population.\n156 - The expression and significance of HOX transcript antisense RNA and epithelial-mesenchymal transition-related factors in esophageal squamous cell carcinoma.\n157 - HOTAIR genetic variants are associated with prostate cancer and benign prostate hyperplasia in an Iranian population.\n158 - miR-101-3p Suppresses HOX Transcript Antisense RNA (HOTAIR)-Induced Proliferation and Invasion Through Directly Targeting SRF in Gastric Carcinoma Cells.\n159 - Current Insights into Long Non-Coding RNAs (LncRNAs) in Prostate Cancer.\n160 - Insight into HOTAIR structural features and functions as landing pads for transcription regulation proteins.\n161 - Association of TagSNP in lncRNA HOTAIR with susceptibility to noise-induced hearing loss in a Chinese population.\n162 - LincRNAFEZF1-AS1 represses p21 expression to promote gastric cancer proliferation through LSD1-Mediated H3K4me2 demethylation.\n163 - Long non-coding RNA HOTAIR inhibits miR-17-5p to regulate osteogenic differentiation and proliferation in non-traumatic osteonecrosis of femoral head.\n164 - Long non-coding RNA in glioma: signaling pathways.\n165 - Knockdown of long non-coding RNA HOTAIR increases miR-454-3p by targeting Stat3 and Atg12 to inhibit chondrosarcoma growth.\n166 - Challenges of CRISPR/Cas9 applications for long non-coding RNA genes.\n167 - Long noncoding RNA HOTAIR promotes metastasis of renal cell carcinoma by up-regulating histone H3K27 demethylase JMJD3.\n168 - PRC2 is dispensable for \n169 - LncRNAs as an intermediate in HPV16 promoting myeloid-derived suppressor cell recruitment of head and neck squamous cell carcinoma.\n170 - The HOTAIR, PRNCR1 and POLR2E polymorphisms are associated with cancer risk: a meta-analysis.\n171 - HOTAIR Epigenetically Modulates PTEN Expression via MicroRNA-29b: A Novel Mechanism in Regulation of Liver Fibrosis.\n172 - Long Non-Coding RNA HOTAIR Regulates the Proliferation, Self-Renewal Capacity, Tumor Formation and Migration of the Cancer Stem-Like Cell (CSC) Subpopulation Enriched from Breast Cancer Cells.\n173 - The use of lncRNA analysis for stratification management of prognostic risk in patients with NSCLC.\n174 - Prognostic value of abnormally expressed lncRNAs in ovarian carcinoma: a systematic review and meta-analysis.\n175 - Suppression of PDCD4 mediated by the long non-coding RNA HOTAIR inhibits the proliferation and invasion of glioma cells.\n176 - Effects of the functional HOTAIR rs920778 and rs12826786 genetic variants in glioma susceptibility and patient prognosis.\n177 - Correction: Infiltrating mast cells enhance prostate cancer invasion via altering LncRNA-HOTAIR/PRC2-androgen receptor (AR)-MMP9 signals and increased stem/progenitor cell population.\n178 - [Prognostic value of lncRNA HOTAIR expression in \u2028patients with cancer: A Meta-analysis].\n179 - Transcription of HOTAIR is regulated by RhoC-MRTF-A-SRF signaling pathway in human breast cancer cells.\n180 - HOTAIR role in melanoma progression and its identification in the blood of patients with advanced disease.\n181 - Elevated HOTAIR expression associated with cisplatin resistance in non-small cell lung cancer patients.\n182 - Hotair facilitates hepatic stellate cells activation and fibrogenesis in the liver.\n183 - Comment on \"Hotair Is Dispensable for Mouse Development\".\n184 - Hotair Is Dispensible for Mouse Development.\n185 - A Hox-Embedded Long Noncoding RNA: Is It All Hot Air?\n186 - Schisandrin B inhibits the proliferation and invasion of glioma cells by regulating the HOTAIR-micoRNA-125a-mTOR pathway.\n187 - Long non-coding RNA \n188 - Association between the HOTAIR polymorphisms and cancer risk: an updated meta-analysis.\n189 - A Feed-Forward Regulatory Loop between HuR and the Long Noncoding RNA HOTAIR Promotes Head and Neck Squamous Cell Carcinoma Progression and Metastasis.\n190 - MALAT1 and HOTAIR Long Non-Coding RNAs Play Opposite Role in Estrogen-Mediated Transcriptional Regulation in Prostate Cancer Cells.\n191 - The central role of HOTAIR in the malignancy of CD44+ human hypopharyngeal carcinoma cells.\n192 - Expression of long non-coding RNA-HOTAIR in oral squamous cell carcinoma Tca8113 cells and its associated biological behavior.\n193 - LncRNA HOTAIR promotes cisplatin resistance in gastric cancer by targeting miR-126 to activate the PI3K/AKT/MRP1 genes.\n194 - Expression level and clinical significance of HOX transcript antisense intergenic RNA in cervical cancer: a meta-analysis.\n195 - HOTAIR, a long non-coding RNA driver of malignancy whose expression is activated by FOXC1, negatively regulates miRNA-1 in hepatocellular carcinoma.\n196 - Epigenetic inhibition of miR-663b by long non-coding RNA HOTAIR promotes pancreatic cancer cell proliferation via up-regulation of insulin-like growth factor 2.\n197 - The role of long noncoding RNA HOTAIR in the acquired multidrug resistance to imatinib in chronic myeloid leukemia cells.\n198 - YAP1 enhances cell proliferation, migration, and invasion of gastric cancer in vitro and in vivo.\n199 - A statistical test for conserved RNA structure shows lack of evidence for structure in lncRNAs.\n200 - Metastasis-associated long noncoding RNAs in gastrointestinal cancer: Implications for novel biomarkers and therapeutic targets.\n201 - Long Noncoding RNA HOTAIR Controls Cell Cycle by Functioning as a Competing Endogenous RNA in Esophageal Squamous Cell Carcinoma.\n202 - Prognostic role of lncRNA HOTAIR in esophageal squamous cell carcinoma.\n203 - Circulating long non-coding HOX transcript antisense intergenic ribonucleic acid in plasma as a potential biomarker for diagnosis of breast cancer.\n204 - Analyzing 37,900 samples shows significant association between HOTAIR polymorphisms and cancer susceptibility: a meta-analysis.\n205 - Exosomal Long Noncoding RNAs are Differentially Expressed in the Cervicovaginal Lavage Samples of Cervical Cancer Patients.\n206 - Dysregulated Expression of Long Noncoding RNAs in Ovarian Cancer.\n207 - Association of HOTAIR polymorphisms rs4759314 and rs920778 with cancer susceptibility on the basis of ethnicity and cancer type.\n208 - Dioscin inhibits gastric tumor growth through regulating the expression level of lncRNA HOTAIR.\n209 - Role of HOTAIR in the diagnosis and prognosis of acute leukemia.\n210 - Downregulation of HOTAIR Expression Mediated Anti-Metastatic Effect of Artesunate on Cervical Cancer by Inhibiting COX-2 Expression.\n211 - A negative regulation loop of long noncoding RNA HOTAIR and p53 in non-small-cell lung cancer.\n212 - HOTAIR rs920778 polymorphism is associated with ovarian cancer susceptibility and poor prognosis in a Chinese population.\n213 - Association of the HOTAIR rs4759314 polymorphism with cancer risk: a meta-analysis.\n214 - Identification of genetic variation in the lncRNA HOTAIR associated with HPV16-related cervical cancer pathogenesis.\n215 - Role of Long Noncoding RNA HOTAIR in the Growth and Apoptosis of Osteosarcoma Cell MG-63.\n216 - Promoter methylation of PCDH10 by HOTAIR regulates the progression of gastrointestinal stromal tumors.\n217 - The lncRNA HOTAIR impacts on mesenchymal stem cells via triple helix formation.\n218 - Long non-coding RNA HOTAIR promotes ischemic infarct induced by hypoxia through up-regulating the expression of NOX2.\n219 - EZH2 coupled with HOTAIR to silence MicroRNA-34a by the induction of heterochromatin formation in human pancreatic ductal adenocarcinoma.\n220 - The function of homeobox genes and lncRNAs in cancer.\n221 - Long non-coding RNA HOTAIR modulates HLA-G expression by absorbing miR-148a in human cervical cancer.\n222 - Long Non-coding RNA HOTAIR Expression in Diffuse Large B-Cell Lymphoma: In Relation to Polycomb Repressive Complex Pathway Proteins and H3K27 Trimethylation.\n223 - Onco-lncRNA HOTAIR and its functional genetic variants in papillary thyroid carcinoma.\n224 - The role of long non-coding RNA HOTAIR in the progression and development of laryngeal squamous cell carcinoma interacting with EZH2.\n225 - LncRNA HOTAIR controls the expression of Rab22a by sponging miR-373 in ovarian cancer.\n226 - Association of Long Non-Coding RNA HOTAIR Polymorphisms with Cervical Cancer Risk in a Chinese Population.\n227 - miR-326 reverses chemoresistance in human lung adenocarcinoma cells by targeting specificity protein 1.\n228 - The Snail repressor recruits EZH2 to specific genomic sites through the enrollment of the lncRNA HOTAIR in epithelial-to-mesenchymal transition.\n229 - LncRNAs and cancer.\n230 - miR-148b-3p inhibits malignant biological behaviors of human glioma cells induced by high \n231 - Delphinidin-3-glucoside suppresses breast carcinogenesis by inactivating the Akt/HOTAIR signaling pathway.\n232 - Long-range regulators of the lncRNA HOTAIR enhance its prognostic potential in breast cancer.\n233 - Inflammatory related gene IKKα, IKKβ, IKKγ cooperates to determine liver cancer stem cells progression by altering telomere via heterochromatin protein 1-HOTAIR axis.\n234 - The Role of Long Non-Coding RNAs in Breast Cancer.\n235 - Long noncoding RNAs as novel predictors of survival in human cancer: a systematic review and meta-analysis.\n236 - RNA helicase DEAD box protein 5 regulates Polycomb repressive complex 2/Hox transcript antisense intergenic RNA function in hepatitis B virus infection and hepatocarcinogenesis.\n237 - HOTAIR overexpression correlated with worse survival in patients with solid tumors.\n238 - Aldehyde dehydrogenase 1A1 up-regulates stem cell markers in benzo[a]pyrene-induced malignant transformation of BEAS-2B cells.\n239 - Significant association between long non-coding RNA HOTAIR polymorphisms and cancer susceptibility: a meta-analysis.\n240 - The long non-coding RNA HOTAIR increases tumour growth and invasion in cervical cancer by targeting the Notch pathway.\n241 - Long noncoding RNA dysregulation in ischemic heart failure.\n242 - Analysis of dysregulated long non-coding RNA expressions in glioblastoma cells.\n243 - The long noncoding RNA HOTAIR activates autophagy by upregulating ATG3 and ATG7 in hepatocellular carcinoma.\n244 - Clinical significance of HOTAIR expression in colon cancer.\n245 - Magnetofection based on superparamagnetic iron oxide nanoparticle-mediated low lncRNA HOTAIR expression decreases the proliferation and invasion of glioma stem cells.\n246 - G-quadruplex RNA binding and recognition by the lysine-specific histone demethylase-1 enzyme.\n247 - Roles of long noncoding RNAs in gastric cancer and their clinical applications.\n248 - Analysis of the association of HOTAIR single nucleotide polymorphism (rs920778) and risk of cervical cancer.\n249 - MiR-326 regulates cell proliferation and migration in lung cancer by targeting phox2a and is regulated by HOTAIR.\n250 - [THE LONG NON-CODING RNA ASSOCIATED WITH CANCEROGENESIS: BIOLOGICAL SIGNIFICANCE AND PERSPECTIVES OF APPLICATION IN DIAGNOSTIC].\n"
     ]
    }
   ],
   "source": [
    "for i, pa in enumerate(paset):\n",
    "    print('%3d - %s' % (i + 1, pa.title))\n"
   ]
  },
  {
   "cell_type": "code",
   "execution_count": 8,
   "metadata": {},
   "outputs": [],
   "source": [
    "from tanric_analysis import *\n"
   ]
  },
  {
   "cell_type": "code",
   "execution_count": 13,
   "metadata": {
    "collapsed": true
   },
   "outputs": [
    {
     "name": "stdout",
     "output_type": "stream",
     "text": [
      "\nPerforming Data Import ...\n\r\tLoaded in dataset for BLCA ( 19, 252)"
     ]
    },
    {
     "name": "stdout",
     "output_type": "stream",
     "text": [
      "\r\tLoaded in dataset for BRCA (105, 837)"
     ]
    },
    {
     "name": "stdout",
     "output_type": "stream",
     "text": [
      "\r\tLoaded in dataset for HNSC ( 42, 426)"
     ]
    },
    {
     "name": "stdout",
     "output_type": "stream",
     "text": [
      "\r\tLoaded in dataset for KICH ( 25,  66)"
     ]
    },
    {
     "name": "stdout",
     "output_type": "stream",
     "text": [
      "\r\tLoaded in dataset for KIRC ( 67, 448)"
     ]
    },
    {
     "name": "stdout",
     "output_type": "stream",
     "text": [
      "\r\tLoaded in dataset for KIRP ( 30, 198)"
     ]
    },
    {
     "name": "stdout",
     "output_type": "stream",
     "text": [
      "\r\tLoaded in dataset for LIHC ( 50, 200)"
     ]
    },
    {
     "name": "stdout",
     "output_type": "stream",
     "text": [
      "\r\tLoaded in dataset for LUAD ( 58, 488)"
     ]
    },
    {
     "name": "stdout",
     "output_type": "stream",
     "text": [
      "\r\tLoaded in dataset for LUSC ( 17, 220)"
     ]
    },
    {
     "name": "stdout",
     "output_type": "stream",
     "text": [
      "\r\tLoaded in dataset for PRAD ( 52, 374)"
     ]
    },
    {
     "name": "stdout",
     "output_type": "stream",
     "text": [
      "\r\tLoaded in dataset for STAD ( 33, 285)"
     ]
    },
    {
     "name": "stdout",
     "output_type": "stream",
     "text": [
      "\r\tLoaded in dataset for THCA ( 59, 497)"
     ]
    },
    {
     "name": "stdout",
     "output_type": "stream",
     "text": [
      "\r\tDone.\n"
     ]
    }
   ],
   "source": [
    "settings = {\n",
    "    'min_norm_samples': 5,\n",
    "    'version': '5.1',  # TODO - some type of automatic versioning\n",
    "    'expression_cutoff': 0.3,  # 0.3 used in TANRIC paper\n",
    "    'filter_method': None,\n",
    "    't_filter': 'is_expressed', # is_nonzero, is_expressed\n",
    "    'multi_hyp_procedure': MultiHypProc.BONFERONI,\n",
    "    'alpha_crit': 1e-2,\n",
    "    'metric': None,\n",
    "    'samples': None,\n",
    "    'fold_change_fudge': 5e-3,\n",
    "    'do_save': True,\n",
    "    'do_plot': False,\n",
    "    'analysis_date': str(datetime.datetime.now())\n",
    "}\n",
    "\n",
    "if settings['multi_hyp_procedure'] is MultiHypProc.BEN_HOCH:\n",
    "    add_args = {'q': settings['alpha_crit'],\n",
    "                'plot': False}\n",
    "else:\n",
    "    add_args = {'a': settings['alpha_crit']}\n",
    "\n",
    "\n",
    "datasets = import_all_data(settings['min_norm_samples'])"
   ]
  },
  {
   "cell_type": "code",
   "execution_count": 14,
   "metadata": {
    "collapsed": true
   },
   "outputs": [
    {
     "name": "stdout",
     "output_type": "stream",
     "text": [
      "\nLoading all Transcript Info ...\n"
     ]
    },
    {
     "name": "stdout",
     "output_type": "stream",
     "text": [
      "\nFetching Gene Info ...\n\tDone.\n"
     ]
    },
    {
     "data": {
      "text/plain": [
       "array([(b'SPPL2B', b'signal peptide peptidase like 2B'),\n       (b'ENSG00000031544', b'ENSG00000031544.10'),\n       (b'lnc-CTTNBP2-1', b'ENSG00000083622.8'), ...,\n       (b'ENSGR0000236871', b'ENSGR0000236871.2'),\n       (b'lnc-RPS4Y1-7', b'ENSGR0000237531.1'),\n       (b'ENSGR0000270726', b'ENSGR0000270726.1')],\n      dtype=[('code', 'S20'), ('description', 'S200')])"
      ]
     },
     "execution_count": 14,
     "metadata": {},
     "output_type": "execute_result"
    }
   ],
   "source": [
    "TanricDataset.get_transcript_info()\n",
    "TanricDataset.get_gene_info()"
   ]
  },
  {
   "cell_type": "code",
   "execution_count": 18,
   "metadata": {
    "collapsed": true
   },
   "outputs": [
    {
     "name": "stdout",
     "output_type": "stream",
     "text": [
      "1.75637504523e-05\n1.45440482165e-05\n"
     ]
    },
    {
     "name": "stdout",
     "output_type": "stream",
     "text": [
      "1.40978392268e-05\n1.35914399495e-05\n1.16428995673e-05\n1.03038461569e-05\n1.88889682632e-05\n9.576112236e-06\n1.56259149487e-05\n"
     ]
    },
    {
     "name": "stdout",
     "output_type": "stream",
     "text": [
      "1.2738224331e-05\n1.08353703791e-05\n1.39532609518e-05\n1.39532609518e-05\n"
     ]
    }
   ],
   "source": [
    "min_val = 0\n",
    "for ds in datasets:\n",
    "    x = ds.exprdata.reshape((-1, ))\n",
    "    print(np.min(x[x > 0]))\n",
    "    min_val = np.min(x[x > 0])\n",
    "\n",
    "print(min_val)\n",
    "    \n",
    "    "
   ]
  }
 ],
 "metadata": {
  "kernelspec": {
   "display_name": "Python 3",
   "language": "python",
   "name": "python3"
  },
  "language_info": {
   "codemirror_mode": {
    "name": "ipython",
    "version": 3
   },
   "file_extension": ".py",
   "mimetype": "text/x-python",
   "name": "python",
   "nbconvert_exporter": "python",
   "pygments_lexer": "ipython3",
   "version": "3.5.2"
  }
 },
 "nbformat": 4,
 "nbformat_minor": 2
}
