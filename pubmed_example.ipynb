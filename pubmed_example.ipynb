{
 "cells": [
  {
   "cell_type": "code",
   "execution_count": 1,
   "metadata": {},
   "outputs": [],
   "source": [
    "import eutils\n"
   ]
  },
  {
   "cell_type": "code",
   "execution_count": 8,
   "metadata": {},
   "outputs": [],
   "source": [
    "ec = eutils.client.Client()\n",
    "search_result = ec.esearch('pubmed', term='SNHG8')\n",
    "paset = list(ec.efetch('pubmed', search_result.ids))\n"
   ]
  },
  {
   "cell_type": "code",
   "execution_count": 9,
   "metadata": {},
   "outputs": [
    {
     "name": "stdout",
     "output_type": "stream",
     "text": [
      "  0 - LncRNA SNHG8 participates in the development of endometrial carcinoma through regulating c-MET expression by miR-152.\n",
      "  1 - FoxM1 Transcriptionally Regulates the Expression of Long Noncoding RNAs Snhg8 and Gm26917 to Promote Proliferation and Survival of Muscle Satellite Cells.\n",
      "  2 - An immune-related lncRNA signature for patients with anaplastic gliomas.\n",
      "  3 - [Expression of long non-coding RNA SNHG8 in Epstein-Barr virus-related gastric cancer and clinical outcome].\n",
      "  4 - SNHG8 is identified as a key regulator of epstein-barr virus(EBV)-associated gastric cancer by an integrative analysis of lncRNA and mRNA expression.\n",
      "  5 - Detection of long non-coding RNAs in human breastmilk extracellular vesicles: Implications for early child development.\n"
     ]
    }
   ],
   "source": [
    "for i, pa in enumerate(paset):\n",
    "    print('%3d - %s' % (i + 1, pa.title))\n"
   ]
  },
  {
   "cell_type": "code",
   "execution_count": 10,
   "metadata": {},
   "outputs": [
    {
     "name": "stdout",
     "output_type": "stream",
     "text": [
      "  3 - ['Case-Control Studies', 'Epstein-Barr Virus Infections', 'Female', 'Herpesvirus 4, Human', 'Humans', 'In Situ Hybridization', 'Male', 'Prognosis', 'RNA, Long Noncoding', 'RNA, Viral', 'Real-Time Polymerase Chain Reaction', 'Stomach Neoplasms']\n",
      "  4 - ['Adult', 'Aged', 'Cell Transformation, Viral', 'Computational Biology', 'Databases, Genetic', 'Epstein-Barr Virus Infections', 'Female', 'Gene Expression Profiling', 'Gene Expression Regulation, Neoplastic', 'Gene Regulatory Networks', 'Herpesvirus 4, Human', 'Host-Pathogen Interactions', 'Humans', 'Male', 'Middle Aged', 'RNA, Long Noncoding', 'RNA, Messenger', 'RNA, Neoplasm', 'Real-Time Polymerase Chain Reaction', 'Sequence Analysis, RNA', 'Stomach Neoplasms', 'Young Adult']\n"
     ]
    }
   ],
   "source": [
    "for i, pa in enumerate(paset):\n",
    "    if pa.mesh_headings:\n",
    "        print('%3d - %s' % (i + 1, pa.mesh_headings))"
   ]
  },
  {
   "cell_type": "code",
   "execution_count": null,
   "metadata": {},
   "outputs": [],
   "source": []
  }
 ],
 "metadata": {
  "kernelspec": {
   "display_name": "Python 3",
   "language": "python",
   "name": "python3"
  },
  "language_info": {
   "codemirror_mode": {
    "name": "ipython",
    "version": 3
   },
   "file_extension": ".py",
   "mimetype": "text/x-python",
   "name": "python",
   "nbconvert_exporter": "python",
   "pygments_lexer": "ipython3",
   "version": "3.5.2"
  }
 },
 "nbformat": 4,
 "nbformat_minor": 2
}
